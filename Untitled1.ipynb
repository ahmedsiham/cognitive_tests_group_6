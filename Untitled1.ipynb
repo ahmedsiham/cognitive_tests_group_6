{
 "cells": [
  {
   "cell_type": "markdown",
   "id": "a27ed3ba-1a9b-4b50-8303-6ba8374db132",
   "metadata": {},
   "source": [
    "## introduction\n",
    "\n",
    "Assessment of cognition can be used as a major tool in studying the correlation between two seemingly separate variables, for example, one may state that problem solving ability directly impacts your ability to recall information. In order to test such a hypothesis we must obtain a sample which has completed both tests in order to assess the results and come to a conclusion. Using a sample consisting of 21 people, we sought out to find a possible link between the ability to approximate and the following cognitive tests; memory, mathematics, spatial reasoning. One's ability at completing cognitive tests can be drastically impaired or improved by various factors, these factors include age, sleeping habits and even factors which may not seem likely to play a major role in performance such as temperature and dieting (Blasiman and Was, 2018). The main factor of interest in this study was sex differences and whether or not they played a significant role in performing well at cognitive tasks.\n",
    "\n",
    "## Literature review\n",
    "\n",
    "Before making a hypothesis for our study, we looked at the similar experiments conducted previously. By summarizing several papers, it is possible to identify a pattern that can become either proven or disproven in further works. Some experiments illustrated that there is a correlation between the approximate number system (ANS) and math ability. Nonetheless, this correspondence is stated to be directly linked for younger age, while that in adults is not direct, as explained by the use of a long-term memory rather than actual mathematical skills [2].\n",
    "As the cognitive tests were presented for both males and females, we assumed that there might be a difference in the results between the groups. The corresponding literature suggests that spatial perception is better in males. For example, st showed that numerous studies of sex differences had a mean standard deviation equal to 0.37 for p<0.01 in favour of males, which is considered to be a significant gap in spatial abilities [3] (Table 1).\n",
    "\n",
    "!(Table 1. The sex difference in mental rotation results indicated in different studies. MRT (mental rotation) and GMR (generic mental rotation) are the spatial abilities test that were took in consideration for sex difference hypothesis.)[filename.ext]\n",
    "\n",
    "Among all the different tests, the Mental Rotation had the most substantial and reliable sex divergence for our subjects’ age group with the d=0.6, on average. Our study used an adapted mental rotation test, where the three-dimensional objects were shown on the screen rather than on the paper (GMR).\n",
    "Considering the math ability, some research propose that girls tend to surpass boys [3-Felson]. Other suggest that male do better in arithmetic than female [4-Vos].\n",
    "\n",
    "\n",
    "## Methods\n",
    "In our investigation of cognitive abilities, we conducted four distinct tests to gather data on participants’ mathematical, memory, spatial reasoning and number sense aptitudes. In our mathematics ability test, participants were assessed on their problem solving skills and questions gradually increased in difficulty. Data collected in this test included participants’ total scores and average response times and total time which helped us to make conclusions into both accuracy and efficiency in mathematical problem-solving. The memory test presented individuals with a grid of coloured shapes, prompting answers alluding to the grid. Data collection encompassed scores and response times which helped to provide a perspective on participants' memory recall accuracy and information processing efficiency. Participants also engaged in a spatial reasoning test that assessed their ability to identify a 2D projection. Data collected focused on scores, offering insights into patterns in responses. The ANS test aimed to assess proficiency in working with numerical concepts. Collected data included scores and participant sex, allowing for insights into numerical reasoning abilities and potential gender-based comparisons.\n",
    "\n",
    "## Discussion of results\n",
    "\n",
    "hypothesis A\n",
    "Although from the scatter plots, there is an apparent correlation in ANS-test with math or spatial tests, the results of the spearman rank-order method did not show any significant correlation between each test. The p-values for each comparison were all larger than 0.05, indicating that we fail to reject the null hypothesis of no correlation. \n",
    "\n",
    "hypothesis B\n",
    "T-test results in p-values all larger than 0.05, indicating that we again failed to reject our null hypothesis. This means that there is no significant difference in any of the tests in terms of their gender. \n",
    "\n",
    "the weakness of this study \n",
    "small sample numbers due to the time restrictions, some tests contained more than 30 samples, but there were only 20 samples using the same IDs through all the tests, and that resulted in a small number of data available for analysis.\n",
    "\n",
    "## conclusion\n",
    "\n",
    "## references\n",
    "\n",
    "\n",
    "\n"
   ]
  },
  {
   "cell_type": "code",
   "execution_count": null,
   "id": "5a5bf09f-b0bd-4909-9d8e-fd9cae302050",
   "metadata": {},
   "outputs": [],
   "source": []
  }
 ],
 "metadata": {
  "kernelspec": {
   "display_name": "Python 3 (ipykernel)",
   "language": "python",
   "name": "python3"
  },
  "language_info": {
   "codemirror_mode": {
    "name": "ipython",
    "version": 3
   },
   "file_extension": ".py",
   "mimetype": "text/x-python",
   "name": "python",
   "nbconvert_exporter": "python",
   "pygments_lexer": "ipython3",
   "version": "3.10.10"
  }
 },
 "nbformat": 4,
 "nbformat_minor": 5
}
